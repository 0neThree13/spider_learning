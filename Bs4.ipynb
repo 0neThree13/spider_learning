{
 "cells": [
  {
   "metadata": {},
   "cell_type": "markdown",
   "source": [
    "# BeautifulSoup\n",
    "###### BeautifulSoup 是 Python 的一个库，用于解析 HTML 和 XML 文件。它可以轻松地从网页中提取数据，适用于爬取静态网页的数据。\n",
    "# 1.红楼梦小说爬取"
   ],
   "id": "7befe254087bd8c4"
  },
  {
   "cell_type": "code",
   "id": "initial_id",
   "metadata": {
    "collapsed": true,
    "ExecuteTime": {
     "end_time": "2025-03-10T08:55:21.661057Z",
     "start_time": "2025-03-10T08:55:21.657461Z"
    }
   },
   "source": [
    "import os\n",
    "from curl_cffi import requests#\n",
    "#第三方库curl_cffi\n",
    "#requests.exceptions.SSLError: HTTPSConnectionPool(host='xxx.com', port=443): Max retries exceeded with url: xxxxxxx?xxxxx=xxx&xxxx=xxxxx (Caused by SSLError(SSLError(1, '[SSL: BAD_ECPOINT] bad ecpoint (_ssl.c:1129)')))\n",
    "from bs4 import BeautifulSoup"
   ],
   "outputs": [],
   "execution_count": 95
  },
  {
   "metadata": {
    "ExecuteTime": {
     "end_time": "2025-03-10T08:35:40.636238Z",
     "start_time": "2025-03-10T08:35:40.633405Z"
    }
   },
   "cell_type": "code",
   "source": [
    "headers = {\n",
    "    'User-Agent': 'Mozilla/5.0 (Windows NT 10.0; Win64; x64) AppleWebKit/537.36 (KHTML, like Gecko) Chrome/91.0.4472.124 Safari/537.36'\n",
    "}"
   ],
   "id": "9c6e803f3cd6b190",
   "outputs": [],
   "execution_count": 92
  },
  {
   "metadata": {
    "ExecuteTime": {
     "end_time": "2025-03-10T08:49:18.673106Z",
     "start_time": "2025-03-10T08:35:50.126684Z"
    }
   },
   "cell_type": "code",
   "source": [
    "headers={\n",
    "    'user-agent':'Mozilla/5.0 (Linux; Android 6.0; Nexus 5 Build/MRA58N) AppleWebKit/537.36 (KHTML, like Gecko) Chrome/134.0.0.0 Mobile Safari/537.36',\n",
    "\n",
    "}\n",
    "\n",
    "ch_url='https://m.shicimingju.com/book/hongloumeng.html'\n",
    "title=[]\n",
    "content=[]\n",
    "i=0\n",
    "\n",
    "\n",
    "if not os.path.exists('./data'):\n",
    "    os.makedirs('./data')\n",
    "\n",
    "fp = open('./data/hongloumeng.txt','w',encoding='utf-8')\n",
    "\n",
    "\n",
    "for i in range(0,120):\n",
    "    title_res=requests.get(ch_url, headers=headers)\n",
    "    title_res.encoding = \"utf-8\"\n",
    "    title_soup=BeautifulSoup(title_res.text,'lxml')\n",
    "    list=title_soup.select(\".list > a\")\n",
    "\n",
    "    for a in list:\n",
    "        title=a.text\n",
    "        content_url=\"https://m.shicimingju.com\" + a['href']\n",
    "        content_res=requests.get(content_url, headers=headers)\n",
    "        content_res.encoding = \"utf-8\"\n",
    "        content_soup=BeautifulSoup(content_res.text,'lxml')\n",
    "        content=content_soup.find('div',class_=\"text p_pad\").text.strip().replace('\\xa0\\xa0\\xa0\\xa0', '\\n')\n",
    "        fp.write(title+':'+'\\n'+ content +'\\n')\n",
    "\n",
    "print('✅')\n",
    "\n"
   ],
   "id": "c16ef447dfa96912",
   "outputs": [
    {
     "name": "stderr",
     "output_type": "stream",
     "text": [
      "Exception ignored from cffi callback <function buffer_callback at 0x1204236a0>:\n",
      "Traceback (most recent call last):\n",
      "  File \"/Users/wansuishan/anaconda3/lib/python3.11/site-packages/curl_cffi/curl.py\", line 63, in buffer_callback\n",
      "    @ffi.def_extern()\n",
      "    \n",
      "KeyboardInterrupt: \n"
     ]
    },
    {
     "ename": "ConnectionError",
     "evalue": "Failed to perform, curl: (56) Failure writing output to destination, passed 13 returned 0. See https://curl.se/libcurl/c/libcurl-errors.html first for more details.",
     "output_type": "error",
     "traceback": [
      "\u001B[0;31m---------------------------------------------------------------------------\u001B[0m",
      "\u001B[0;31mCurlError\u001B[0m                                 Traceback (most recent call last)",
      "File \u001B[0;32m~/anaconda3/lib/python3.11/site-packages/curl_cffi/requests/session.py:577\u001B[0m, in \u001B[0;36mSession.request\u001B[0;34m(self, method, url, params, data, json, headers, cookies, files, auth, timeout, allow_redirects, max_redirects, proxies, proxy, proxy_auth, verify, referer, accept_encoding, content_callback, impersonate, ja3, akamai, extra_fp, default_headers, default_encoding, quote, http_version, interface, cert, stream, max_recv_speed, multipart)\u001B[0m\n\u001B[1;32m    576\u001B[0m     \u001B[38;5;28;01melse\u001B[39;00m:\n\u001B[0;32m--> 577\u001B[0m         c\u001B[38;5;241m.\u001B[39mperform()\n\u001B[1;32m    578\u001B[0m \u001B[38;5;28;01mexcept\u001B[39;00m CurlError \u001B[38;5;28;01mas\u001B[39;00m e:\n",
      "File \u001B[0;32m~/anaconda3/lib/python3.11/site-packages/curl_cffi/curl.py:307\u001B[0m, in \u001B[0;36mCurl.perform\u001B[0;34m(self, clear_headers)\u001B[0m\n\u001B[1;32m    306\u001B[0m \u001B[38;5;28;01mtry\u001B[39;00m:\n\u001B[0;32m--> 307\u001B[0m     \u001B[38;5;28mself\u001B[39m\u001B[38;5;241m.\u001B[39m_check_error(ret, \u001B[38;5;124m\"\u001B[39m\u001B[38;5;124mperform\u001B[39m\u001B[38;5;124m\"\u001B[39m)\n\u001B[1;32m    308\u001B[0m \u001B[38;5;28;01mfinally\u001B[39;00m:\n\u001B[1;32m    309\u001B[0m     \u001B[38;5;66;03m# cleaning\u001B[39;00m\n",
      "File \u001B[0;32m~/anaconda3/lib/python3.11/site-packages/curl_cffi/curl.py:150\u001B[0m, in \u001B[0;36mCurl._check_error\u001B[0;34m(self, errcode, *args)\u001B[0m\n\u001B[1;32m    149\u001B[0m \u001B[38;5;28;01mif\u001B[39;00m error \u001B[38;5;129;01mis\u001B[39;00m \u001B[38;5;129;01mnot\u001B[39;00m \u001B[38;5;28;01mNone\u001B[39;00m:\n\u001B[0;32m--> 150\u001B[0m     \u001B[38;5;28;01mraise\u001B[39;00m error\n",
      "\u001B[0;31mCurlError\u001B[0m: Failed to perform, curl: (56) Failure writing output to destination, passed 13 returned 0. See https://curl.se/libcurl/c/libcurl-errors.html first for more details.",
      "\nThe above exception was the direct cause of the following exception:\n",
      "\u001B[0;31mConnectionError\u001B[0m                           Traceback (most recent call last)",
      "Cell \u001B[0;32mIn[93], line 29\u001B[0m\n\u001B[1;32m     27\u001B[0m title\u001B[38;5;241m=\u001B[39ma\u001B[38;5;241m.\u001B[39mtext\n\u001B[1;32m     28\u001B[0m content_url\u001B[38;5;241m=\u001B[39m\u001B[38;5;124m\"\u001B[39m\u001B[38;5;124mhttps://m.shicimingju.com\u001B[39m\u001B[38;5;124m\"\u001B[39m \u001B[38;5;241m+\u001B[39m a[\u001B[38;5;124m'\u001B[39m\u001B[38;5;124mhref\u001B[39m\u001B[38;5;124m'\u001B[39m]\n\u001B[0;32m---> 29\u001B[0m content_res\u001B[38;5;241m=\u001B[39mrequests\u001B[38;5;241m.\u001B[39mget(content_url, headers\u001B[38;5;241m=\u001B[39mheaders)\n\u001B[1;32m     30\u001B[0m content_res\u001B[38;5;241m.\u001B[39mencoding \u001B[38;5;241m=\u001B[39m \u001B[38;5;124m\"\u001B[39m\u001B[38;5;124mutf-8\u001B[39m\u001B[38;5;124m\"\u001B[39m\n\u001B[1;32m     31\u001B[0m content_soup\u001B[38;5;241m=\u001B[39mBeautifulSoup(content_res\u001B[38;5;241m.\u001B[39mtext,\u001B[38;5;124m'\u001B[39m\u001B[38;5;124mlxml\u001B[39m\u001B[38;5;124m'\u001B[39m)\n",
      "File \u001B[0;32m~/anaconda3/lib/python3.11/site-packages/curl_cffi/requests/__init__.py:125\u001B[0m, in \u001B[0;36mget\u001B[0;34m(url, **kwargs)\u001B[0m\n\u001B[1;32m    124\u001B[0m \u001B[38;5;28;01mdef\u001B[39;00m \u001B[38;5;21mget\u001B[39m(url: \u001B[38;5;28mstr\u001B[39m, \u001B[38;5;241m*\u001B[39m\u001B[38;5;241m*\u001B[39mkwargs: Unpack[SessionRequestParams]):\n\u001B[0;32m--> 125\u001B[0m     \u001B[38;5;28;01mreturn\u001B[39;00m request(method\u001B[38;5;241m=\u001B[39m\u001B[38;5;124m\"\u001B[39m\u001B[38;5;124mGET\u001B[39m\u001B[38;5;124m\"\u001B[39m, url\u001B[38;5;241m=\u001B[39murl, \u001B[38;5;241m*\u001B[39m\u001B[38;5;241m*\u001B[39mkwargs)\n",
      "File \u001B[0;32m~/anaconda3/lib/python3.11/site-packages/curl_cffi/requests/__init__.py:119\u001B[0m, in \u001B[0;36mrequest\u001B[0;34m(method, url, thread, curl_options, debug, **kwargs)\u001B[0m\n\u001B[1;32m    117\u001B[0m debug \u001B[38;5;241m=\u001B[39m \u001B[38;5;28;01mFalse\u001B[39;00m \u001B[38;5;28;01mif\u001B[39;00m debug \u001B[38;5;129;01mis\u001B[39;00m \u001B[38;5;28;01mNone\u001B[39;00m \u001B[38;5;28;01melse\u001B[39;00m debug\n\u001B[1;32m    118\u001B[0m \u001B[38;5;28;01mwith\u001B[39;00m Session(thread\u001B[38;5;241m=\u001B[39mthread, curl_options\u001B[38;5;241m=\u001B[39mcurl_options, debug\u001B[38;5;241m=\u001B[39mdebug) \u001B[38;5;28;01mas\u001B[39;00m s:\n\u001B[0;32m--> 119\u001B[0m     \u001B[38;5;28;01mreturn\u001B[39;00m s\u001B[38;5;241m.\u001B[39mrequest(method\u001B[38;5;241m=\u001B[39mmethod, url\u001B[38;5;241m=\u001B[39murl, \u001B[38;5;241m*\u001B[39m\u001B[38;5;241m*\u001B[39mkwargs)\n",
      "File \u001B[0;32m~/anaconda3/lib/python3.11/site-packages/curl_cffi/requests/session.py:582\u001B[0m, in \u001B[0;36mSession.request\u001B[0;34m(self, method, url, params, data, json, headers, cookies, files, auth, timeout, allow_redirects, max_redirects, proxies, proxy, proxy_auth, verify, referer, accept_encoding, content_callback, impersonate, ja3, akamai, extra_fp, default_headers, default_encoding, quote, http_version, interface, cert, stream, max_recv_speed, multipart)\u001B[0m\n\u001B[1;32m    580\u001B[0m     rsp\u001B[38;5;241m.\u001B[39mrequest \u001B[38;5;241m=\u001B[39m req\n\u001B[1;32m    581\u001B[0m     error \u001B[38;5;241m=\u001B[39m code2error(e\u001B[38;5;241m.\u001B[39mcode, \u001B[38;5;28mstr\u001B[39m(e))\n\u001B[0;32m--> 582\u001B[0m     \u001B[38;5;28;01mraise\u001B[39;00m error(\u001B[38;5;28mstr\u001B[39m(e), e\u001B[38;5;241m.\u001B[39mcode, rsp) \u001B[38;5;28;01mfrom\u001B[39;00m \u001B[38;5;21;01me\u001B[39;00m\n\u001B[1;32m    583\u001B[0m \u001B[38;5;28;01melse\u001B[39;00m:\n\u001B[1;32m    584\u001B[0m     rsp \u001B[38;5;241m=\u001B[39m \u001B[38;5;28mself\u001B[39m\u001B[38;5;241m.\u001B[39m_parse_response(c, buffer, header_buffer, default_encoding)\n",
      "\u001B[0;31mConnectionError\u001B[0m: Failed to perform, curl: (56) Failure writing output to destination, passed 13 returned 0. See https://curl.se/libcurl/c/libcurl-errors.html first for more details."
     ]
    }
   ],
   "execution_count": 93
  },
  {
   "metadata": {},
   "cell_type": "markdown",
   "source": "# 2.虎扑NBA球员_头像抓取",
   "id": "83a705d205edd689"
  },
  {
   "metadata": {
    "ExecuteTime": {
     "end_time": "2025-03-10T11:15:26.863334Z",
     "start_time": "2025-03-10T11:15:23.998595Z"
    }
   },
   "cell_type": "code",
   "source": [
    "import os\n",
    "from curl_cffi import requests\n",
    "from bs4 import BeautifulSoup\n",
    "\n",
    "\n",
    "if not os.path.exists('./data'):\n",
    "    os.makedirs(\"./data\")\n",
    "\n",
    "headers = {\n",
    "    'User-Agent':'Mozilla/5.0 (Linux; Android 6.0; Nexus 5 Build/MRA58N) AppleWebKit/537.36 (KHTML, like Gecko) Chrome/134.0.0.0 Mobile Safari/537.36',\n",
    "\n",
    "    'Cookie':'smidV2=2025030919471573ced9ffaf5fe4edfa74b5526409ac50003801d34d210c9c0; sajssdk_2015_cross_new_user=1; sensorsdata2015jssdkcross=%7B%22distinct_id%22%3A%221957abb330911dc-0cc6b090f618dd-1b525636-1484784-1957abb330a2644%22%2C%22first_id%22%3A%22%22%2C%22props%22%3A%7B%22%24latest_traffic_source_type%22%3A%22%E7%9B%B4%E6%8E%A5%E6%B5%81%E9%87%8F%22%2C%22%24latest_search_keyword%22%3A%22%E6%9C%AA%E5%8F%96%E5%88%B0%E5%80%BC_%E7%9B%B4%E6%8E%A5%E6%89%93%E5%BC%80%22%2C%22%24latest_referrer%22%3A%22%22%7D%2C%22identities%22%3A%22eyIkaWRlbnRpdHlfY29va2llX2lkIjoiMTk1N2FiYjMzMDkxMWRjLTBjYzZiMDkwZjYxOGRkLTFiNTI1NjM2LTE0ODQ3ODQtMTk1N2FiYjMzMGEyNjQ0In0%3D%22%2C%22history_login_id%22%3A%7B%22name%22%3A%22%22%2C%22value%22%3A%22%22%7D%2C%22%24device_id%22%3A%221957abb330911dc-0cc6b090f618dd-1b525636-1484784-1957abb330a2644%22%7D; Hm_lvt_b241fb65ecc2ccf4e7e3b9601c7a50de=1741520848; Hm_lpvt_b241fb65ecc2ccf4e7e3b9601c7a50de=1741520848; HMACCOUNT=6CB9AF89D45FA5C9; Hm_lvt_4fac77ceccb0cd4ad5ef1be46d740615=1741520848; Hm_lpvt_4fac77ceccb0cd4ad5ef1be46d740615=1741520848'\n",
    "    }\n",
    "\n",
    "url='https://nba.hupu.com/players/{}'\n",
    "\n",
    "team = {\n",
    "    'lakers', 'clippers', 'warriors', 'kings', 'suns',\n",
    "    'nuggets', 'timberwolves', 'thunder', 'trail blazers', 'jazz',\n",
    "    'mavericks', 'rockets', 'grizzlies', 'pelicans', 'spurs',\n",
    "    'celtics', 'nets', 'knicks', '76ers', 'raptors',\n",
    "    'bucks', 'bulls', 'cavaliers', 'pistons', 'pacers',\n",
    "    'heat', 'hawks', 'hornets', 'magic', 'wizards'\n",
    "}\n",
    "\n",
    "for item in team:\n",
    "    new_url = url.format(item)\n",
    "    response=requests.get(url=new_url,headers=headers)\n",
    "    soup=BeautifulSoup(response.text,'lxml')\n",
    "    # print(page)\n",
    "\n",
    "    #正则解析\n",
    "    # pattern = r'<img\\s+src=\"(https?://.*?\\.(?:jpg|jpeg|png|gif))\"'\n",
    "    # pattern = r'<img\\s+src=\"(https://gdc\\.hupucdn\\.com/gdc/nba/players/uploads/gamespace/players/.*?\\.(?:jpg|jpeg|png|gif))\"'\n",
    "    #\n",
    "    # img_str=re.findall(pattern,page,re.S)\n",
    "    # # print(img_str)\n",
    "\n",
    "\n",
    "    img_str = soup.select('.td_padding > a > img ')\n",
    "    print(img_str)\n",
    "\n",
    "    #储存图片\n",
    "    for img in img_str:\n",
    "        img_url= img['src']\n",
    "\n",
    "        img_data=requests.get(img_url,headers=headers).content\n",
    "        img_name=img_url.split('/')[-1]\n",
    "\n",
    "        with open(f'./data/{img_name}','wb') as f:\n",
    "            f.write(img_data)\n",
    "print(\"✅\")\n"
   ],
   "id": "48c6db479ca8c3f9",
   "outputs": [
    {
     "name": "stdout",
     "output_type": "stream",
     "text": [
      "[<img src=\"https://gdc.hupucdn.com/gdc/nba/players/uploads/gamespace/players/4b0372ca00e3582477c490850dd448a5.png\"/>, <img src=\"https://gdc.hupucdn.com/gdc/nba/players/uploads/gamespace/players/b749cef24deb624b4ef283e52a687c6a.png\"/>, <img src=\"https://c2.hoopchina.com.cn/images/gamespace/brand.jpg\"/>, <img src=\"https://gdc.hupucdn.com/gdc/nba/players/uploads/gamespace/players/3183ca91ab20fe14aa36c228d35da88e.jpg\"/>, <img src=\"https://gdc.hupucdn.com/gdc/nba/players/uploads/gamespace/players/525e182cd24345f90b83f37f45b4dead.png\"/>, <img src=\"https://c2.hoopchina.com.cn/images/gamespace/brand.jpg\"/>, <img src=\"https://gdc.hupucdn.com/gdc/nba/players/uploads/gamespace/players/f5cc07a26d20c1f25037974517be90c8.png\"/>, <img src=\"https://gdc.hupucdn.com/gdc/nba/players/uploads/gamespace/players/01cf1c5507ccfdadcfd8e7c16d1e2899.png\"/>, <img src=\"https://c2.hoopchina.com.cn/images/gamespace/brand.jpg\"/>, <img src=\"https://c2.hoopchina.com.cn/images/gamespace/brand.jpg\"/>, <img src=\"https://gdc.hupucdn.com/gdc/nba/players/uploads/gamespace/players/00571d38479026d5da68ad3e371042f8.png\"/>, <img src=\"https://gdc.hupucdn.com/gdc/nba/players/uploads/gamespace/players/c419529f426243f376ef8e7194e9429c.png\"/>, <img src=\"https://c2.hoopchina.com.cn/images/gamespace/brand.jpg\"/>, <img src=\"https://c2.hoopchina.com.cn/images/gamespace/brand.jpg\"/>, <img src=\"https://gdc.hupucdn.com/gdc/nba/players/uploads/gamespace/players/ad9807dbc60304ff59c9aae932c26889.png\"/>, <img src=\"https://gdc.hupucdn.com/gdc/nba/players/uploads/gamespace/players/cbdeafa31efc7090d8efdc848ae700a0.png\"/>, <img src=\"https://gdc.hupucdn.com/gdc/nba/players/uploads/gamespace/players/ea1f1119a79cba8eef99c1c31850033f.png\"/>, <img src=\"https://gdc.hupucdn.com/gdc/nba/players/uploads/gamespace/players/117020b64ab48eea497d78c38e9fb088.png\"/>]\n",
      "[<img src=\"https://gdc.hupucdn.com/gdc/nba/players/uploads/gamespace/players/59c399de95629a72b9623c03cbacb45e.jpg\"/>, <img src=\"https://gdc.hupucdn.com/gdc/nba/players/uploads/gamespace/players/334960d71a4015f1100f59fd4bc02d5c.png\"/>, <img src=\"https://gdc.hupucdn.com/gdc/nba/players/uploads/gamespace/players/7bc868a38fa074310cf537653c0ac5b3.png\"/>, <img src=\"https://gdc.hupucdn.com/gdc/nba/players/uploads/gamespace/players/7d9c7847d1b0ff056e87bbf09f64e6b8.png\"/>, <img src=\"https://c2.hoopchina.com.cn/images/gamespace/brand.jpg\"/>, <img src=\"https://c2.hoopchina.com.cn/images/gamespace/brand.jpg\"/>, <img src=\"https://c2.hoopchina.com.cn/images/gamespace/brand.jpg\"/>, <img src=\"https://gdc.hupucdn.com/gdc/nba/players/uploads/gamespace/players/4d9029ec4b8119051223e3dfc477fbf3.png\"/>, <img src=\"https://c2.hoopchina.com.cn/images/gamespace/brand.jpg\"/>, <img src=\"https://gdc.hupucdn.com/gdc/nba/players/uploads/gamespace/players/ac0280a8bf28baee7186e9abee3e39f1.jpg\"/>, <img src=\"https://c2.hoopchina.com.cn/images/gamespace/brand.jpg\"/>, <img src=\"https://c2.hoopchina.com.cn/images/gamespace/brand.jpg\"/>, <img src=\"https://c2.hoopchina.com.cn/images/gamespace/brand.jpg\"/>, <img src=\"https://gdc.hupucdn.com/gdc/nba/players/uploads/gamespace/players/8df3141e7e90d6da84840401c689f35d.png\"/>, <img src=\"https://gdc.hupucdn.com/gdc/nba/players/uploads/gamespace/players/f17f77b14539d569476581f826b61841.png\"/>, <img src=\"https://c2.hoopchina.com.cn/images/gamespace/brand.jpg\"/>, <img src=\"https://gdc.hupucdn.com/gdc/nba/players/uploads/gamespace/players/ff82b20a32f7dad2b6579b18b5a249e9.png\"/>, <img src=\"https://gdc.hupucdn.com/gdc/nba/players/uploads/gamespace/players/80519a6e3d5e4721de39c34776bbfb69.png\"/>]\n",
      "[<img src=\"https://gdc.hupucdn.com/gdc/nba/players/uploads/gamespace/players/da542490cc1b657abefe9dc987e01ccd.png\"/>, <img src=\"https://c2.hoopchina.com.cn/images/gamespace/brand.jpg\"/>, <img src=\"https://gdc.hupucdn.com/gdc/nba/players/uploads/gamespace/players/2a03f05e59989c7143c3fd353c317045.jpg\"/>, <img src=\"https://c2.hoopchina.com.cn/images/gamespace/brand.jpg\"/>, <img src=\"https://gdc.hupucdn.com/gdc/nba/players/uploads/gamespace/players/c1e8d368e6410ba35e710b8ed1b5c049.png\"/>, <img src=\"https://gdc.hupucdn.com/gdc/nba/players/uploads/gamespace/players/aa3f805f6abe98566dcfba6d3cd25e1c.png\"/>, <img src=\"https://gdc.hupucdn.com/gdc/nba/players/uploads/gamespace/players/9bb367867834879930c90e8b187d50d6.png\"/>, <img src=\"https://c2.hoopchina.com.cn/images/gamespace/brand.jpg\"/>, <img src=\"https://c2.hoopchina.com.cn/images/gamespace/brand.jpg\"/>, <img src=\"https://c2.hoopchina.com.cn/images/gamespace/brand.jpg\"/>, <img src=\"https://gdc.hupucdn.com/gdc/nba/players/uploads/gamespace/players/a3ada65ee35d44ae2fa2742f0b72c5cc.png\"/>, <img src=\"https://c2.hoopchina.com.cn/images/gamespace/brand.jpg\"/>, <img src=\"https://c2.hoopchina.com.cn/images/gamespace/brand.jpg\"/>, <img src=\"https://c2.hoopchina.com.cn/images/gamespace/brand.jpg\"/>, <img src=\"https://gdc.hupucdn.com/gdc/nba/players/uploads/gamespace/players/2ede1d6372d03569a4b6d092576648dd.png\"/>, <img src=\"https://gdc.hupucdn.com/gdc/nba/players/uploads/gamespace/players/53e9472cb13779bc5c8140003cc36af0.png\"/>, <img src=\"https://gdc.hupucdn.com/gdc/nba/players/uploads/gamespace/players/eef4840ae547922bde0da1f4bf60a644.png\"/>, <img src=\"https://gdc.hupucdn.com/gdc/nba/players/uploads/gamespace/players/42c668fc2d5aafc7357c8a659d2755cc.jpg\"/>]\n",
      "[<img src=\"https://gdc.hupucdn.com/gdc/nba/players/uploads/gamespace/players/6055a162724eed13fe871eba92a51cef.jpg\"/>, <img src=\"https://c2.hoopchina.com.cn/images/gamespace/brand.jpg\"/>, <img src=\"https://c2.hoopchina.com.cn/images/gamespace/brand.jpg\"/>, <img src=\"https://gdc.hupucdn.com/gdc/nba/players/uploads/gamespace/players/dffeae4a57eb74d3dc28b7888fc662f1.png\"/>, <img src=\"https://c2.hoopchina.com.cn/images/gamespace/brand.jpg\"/>, <img src=\"https://gdc.hupucdn.com/gdc/nba/players/uploads/gamespace/players/c121c897cc861ab43338b6ac755636db.jpg\"/>, <img src=\"https://c2.hoopchina.com.cn/images/gamespace/brand.jpg\"/>, <img src=\"https://c2.hoopchina.com.cn/images/gamespace/brand.jpg\"/>, <img src=\"https://c2.hoopchina.com.cn/images/gamespace/brand.jpg\"/>, <img src=\"https://gdc.hupucdn.com/gdc/nba/players/uploads/gamespace/players/3050da7d8d2aa34abb6c4fd7fe51dd35.png\"/>, <img src=\"https://gdc.hupucdn.com/gdc/nba/players/uploads/gamespace/players/11a833784a2daee14aabce567d438a97.png\"/>, <img src=\"https://gdc.hupucdn.com/gdc/nba/players/uploads/gamespace/players/1eb1c4548b97b0cae471f849372f1731.png\"/>, <img src=\"https://gdc.hupucdn.com/gdc/nba/players/uploads/gamespace/players/e77b389ba28a4652bb253b584d1f2106.png\"/>, <img src=\"https://c2.hoopchina.com.cn/images/gamespace/brand.jpg\"/>, <img src=\"https://c2.hoopchina.com.cn/images/gamespace/brand.jpg\"/>, <img src=\"https://gdc.hupucdn.com/gdc/nba/players/uploads/gamespace/players/3a57157d6152608320484fc888105213.png\"/>, <img src=\"https://c2.hoopchina.com.cn/images/gamespace/brand.jpg\"/>, <img src=\"https://c2.hoopchina.com.cn/images/gamespace/brand.jpg\"/>]\n",
      "[<img src=\"https://c2.hoopchina.com.cn/images/gamespace/brand.jpg\"/>, <img src=\"https://c2.hoopchina.com.cn/images/gamespace/brand.jpg\"/>, <img src=\"https://gdc.hupucdn.com/gdc/nba/players/uploads/gamespace/players/79043f8d754849be98322dcdd981df73.jpg\"/>, <img src=\"https://c2.hoopchina.com.cn/images/gamespace/brand.jpg\"/>, <img src=\"https://gdc.hupucdn.com/gdc/nba/players/uploads/gamespace/players/f833dcdaae971233c67cb14aecceb1bf.png\"/>, <img src=\"https://c2.hoopchina.com.cn/images/gamespace/brand.jpg\"/>, <img src=\"https://c2.hoopchina.com.cn/images/gamespace/brand.jpg\"/>, <img src=\"https://gdc.hupucdn.com/gdc/nba/players/uploads/gamespace/players/d7714b25ef421622102e9cabcb20017a.png\"/>, <img src=\"https://c2.hoopchina.com.cn/images/gamespace/brand.jpg\"/>, <img src=\"https://c2.hoopchina.com.cn/images/gamespace/brand.jpg\"/>, <img src=\"https://c2.hoopchina.com.cn/images/gamespace/brand.jpg\"/>, <img src=\"https://c2.hoopchina.com.cn/images/gamespace/brand.jpg\"/>, <img src=\"https://gdc.hupucdn.com/gdc/nba/players/uploads/gamespace/players/62525daa20151e555c0273b4e51f9c92.png\"/>, <img src=\"https://c2.hoopchina.com.cn/images/gamespace/brand.jpg\"/>, <img src=\"https://gdc.hupucdn.com/gdc/nba/players/uploads/gamespace/players/0a51a7eef316855b79329adc0ac1fb64.png\"/>, <img src=\"https://gdc.hupucdn.com/gdc/nba/players/uploads/gamespace/players/a9a67d2656c77102ffa27d6531b3fa11.png\"/>, <img src=\"https://c2.hoopchina.com.cn/images/gamespace/brand.jpg\"/>, <img src=\"https://gdc.hupucdn.com/gdc/nba/players/uploads/gamespace/players/f4ecbc8e50c3e7301593f77fe740a39e.png\"/>]\n",
      "[<img src=\"https://gdc.hupucdn.com/gdc/nba/players/uploads/gamespace/players/685c6dbcea8b545658da4357bd006bd6.png\"/>, <img src=\"https://c2.hoopchina.com.cn/images/gamespace/brand.jpg\"/>, <img src=\"https://c2.hoopchina.com.cn/images/gamespace/brand.jpg\"/>, <img src=\"https://gdc.hupucdn.com/gdc/nba/players/uploads/gamespace/players/bdc39d030dba448f8503ced295fdd206.png\"/>, <img src=\"https://gdc.hupucdn.com/gdc/nba/players/uploads/gamespace/players/37e66df806d0ce19dec3e59d22b8f6ec.jpg\"/>, <img src=\"https://c2.hoopchina.com.cn/images/gamespace/brand.jpg\"/>, <img src=\"https://c2.hoopchina.com.cn/images/gamespace/brand.jpg\"/>, <img src=\"https://gdc.hupucdn.com/gdc/nba/players/uploads/gamespace/players/97cb3071c9267e60240fa3912711f3e0.jpg\"/>, <img src=\"https://gdc.hupucdn.com/gdc/nba/players/uploads/gamespace/players/be917216f542591f8b638b63cb701103.png\"/>, <img src=\"https://c2.hoopchina.com.cn/images/gamespace/brand.jpg\"/>, <img src=\"https://gdc.hupucdn.com/gdc/nba/players/uploads/gamespace/players/50588064d7ed6d6be77a37191094cffb.png\"/>, <img src=\"https://gdc.hupucdn.com/gdc/nba/players/uploads/gamespace/players/ddb9779373a2dc7cf5a633e0ec74cce6.png\"/>, <img src=\"https://gdc.hupucdn.com/gdc/nba/players/uploads/gamespace/players/bc2cd9a38390bb68d7c0c687194315aa.png\"/>, <img src=\"https://gdc.hupucdn.com/gdc/nba/players/uploads/gamespace/players/aa3f26cfa34fc13632f9872b2d148e85.png\"/>, <img src=\"https://c2.hoopchina.com.cn/images/gamespace/brand.jpg\"/>, <img src=\"https://c2.hoopchina.com.cn/images/gamespace/brand.jpg\"/>, <img src=\"https://gdc.hupucdn.com/gdc/nba/players/uploads/gamespace/players/b13c2e639afb702dd2c34be399c21f9c.png\"/>, <img src=\"https://c2.hoopchina.com.cn/images/gamespace/brand.jpg\"/>]\n",
      "[<img src=\"https://c2.hoopchina.com.cn/images/gamespace/brand.jpg\"/>, <img src=\"https://c2.hoopchina.com.cn/images/gamespace/brand.jpg\"/>, <img src=\"https://gdc.hupucdn.com/gdc/nba/players/uploads/gamespace/players/6959b515e91e834645e6197387869709.png\"/>, <img src=\"https://gdc.hupucdn.com/gdc/nba/players/uploads/gamespace/players/0680cb7a995518464f1eef890e353806.png\"/>, <img src=\"https://c2.hoopchina.com.cn/images/gamespace/brand.jpg\"/>, <img src=\"https://c2.hoopchina.com.cn/images/gamespace/brand.jpg\"/>, <img src=\"https://c2.hoopchina.com.cn/images/gamespace/brand.jpg\"/>, <img src=\"https://gdc.hupucdn.com/gdc/nba/players/uploads/gamespace/players/8a86ee23a130dceb061b338462c03668.png\"/>, <img src=\"https://gdc.hupucdn.com/gdc/nba/players/uploads/gamespace/players/5db721c49158a0a7b3d0b3473746a707.jpg\"/>, <img src=\"https://gdc.hupucdn.com/gdc/nba/players/uploads/gamespace/players/e212ca1ac52d3f21514cf6c452561398.png\"/>, <img src=\"https://gdc.hupucdn.com/gdc/nba/players/uploads/gamespace/players/bd719fe2e04f0cbefd9a131d136ef41b.png\"/>, <img src=\"https://gdc.hupucdn.com/gdc/nba/players/uploads/gamespace/players/7c61760a8e98729cac4de0e6382d486c.png\"/>, <img src=\"https://c2.hoopchina.com.cn/images/gamespace/brand.jpg\"/>, <img src=\"https://c2.hoopchina.com.cn/images/gamespace/brand.jpg\"/>, <img src=\"https://gdc.hupucdn.com/gdc/nba/players/uploads/gamespace/players/9eefbb21e86c45843ba4e1185ce6229e.png\"/>, <img src=\"https://gdc.hupucdn.com/gdc/nba/players/uploads/gamespace/players/17ee63e2fb29249f69e34421ed8d149d.png\"/>, <img src=\"https://gdc.hupucdn.com/gdc/nba/players/uploads/gamespace/players/1757f869314711da9f45aa553361e730.png\"/>, <img src=\"https://gdc.hupucdn.com/gdc/nba/players/uploads/gamespace/players/dfc638a05a6a78cbd8d78b1938289be4.png\"/>, <img src=\"https://c2.hoopchina.com.cn/images/gamespace/brand.jpg\"/>]\n",
      "[<img src=\"https://gdc.hupucdn.com/gdc/nba/players/uploads/gamespace/players/4f0a1908ce001d775742643abc381fd1.jpg\"/>, <img src=\"https://gdc.hupucdn.com/gdc/nba/players/uploads/gamespace/players/e91cff0605c5a9cb289463f5bfcea620.jpg\"/>, <img src=\"https://gdc.hupucdn.com/gdc/nba/players/uploads/gamespace/players/9f13fa184ae9a78b389014b3cd7a2b9d.png\"/>, <img src=\"https://c2.hoopchina.com.cn/images/gamespace/brand.jpg\"/>, <img src=\"https://gdc.hupucdn.com/gdc/nba/players/uploads/gamespace/players/f60b39f034628ae0a5c75fe34a4e74d3.png\"/>, <img src=\"https://c2.hoopchina.com.cn/images/gamespace/brand.jpg\"/>, <img src=\"https://gdc.hupucdn.com/gdc/nba/players/uploads/gamespace/players/7db5163da4697d880f947b9fb14f925b.png\"/>, <img src=\"https://gdc.hupucdn.com/gdc/nba/players/uploads/gamespace/players/b2b01c13cb0ce499bd7e1197e3c58146.png\"/>, <img src=\"https://gdc.hupucdn.com/gdc/nba/players/uploads/gamespace/players/17bf6d9946ab695d0401213b5cc22b6f.jpg\"/>, <img src=\"https://gdc.hupucdn.com/gdc/nba/players/uploads/gamespace/players/13e6aa7a91a03f9d9a4471e593c9d220.png\"/>, <img src=\"https://gdc.hupucdn.com/gdc/nba/players/uploads/gamespace/players/38d674bbc2a752593664fd043f6a1272.png\"/>, <img src=\"https://c2.hoopchina.com.cn/images/gamespace/brand.jpg\"/>, <img src=\"https://gdc.hupucdn.com/gdc/nba/players/uploads/gamespace/players/6c84fd0e1125561df55f60f1135a03ea.png\"/>, <img src=\"https://gdc.hupucdn.com/gdc/nba/players/uploads/gamespace/players/a9499b8ff2dd086719bddb72987dba21.png\"/>, <img src=\"https://c2.hoopchina.com.cn/images/gamespace/brand.jpg\"/>, <img src=\"https://gdc.hupucdn.com/gdc/nba/players/uploads/gamespace/players/1940cf829ae2057e93277b45dda3a527.png\"/>, <img src=\"https://c2.hoopchina.com.cn/images/gamespace/brand.jpg\"/>]\n",
      "[<img src=\"https://gdc.hupucdn.com/gdc/nba/players/uploads/gamespace/players/ac8dc181888014af3a741921afd490d1.jpg\"/>, <img src=\"https://c2.hoopchina.com.cn/images/gamespace/brand.jpg\"/>, <img src=\"https://gdc.hupucdn.com/gdc/nba/players/uploads/gamespace/players/bafa3e3cca97fb5d8898c50d8b29f869.jpg\"/>, <img src=\"https://c2.hoopchina.com.cn/images/gamespace/brand.jpg\"/>, <img src=\"https://gdc.hupucdn.com/gdc/nba/players/uploads/gamespace/players/54e6266b331a878d7c795676b4e943fa.png\"/>, <img src=\"https://gdc.hupucdn.com/gdc/nba/players/uploads/gamespace/players/566c001ef751ae91a3c247f283069d8a.png\"/>, <img src=\"https://gdc.hupucdn.com/gdc/nba/players/uploads/gamespace/players/e649b4805a1abf17719f4c62aef3f155.png\"/>, <img src=\"https://gdc.hupucdn.com/gdc/nba/players/uploads/gamespace/players/0bdcc2bd956ef98d423cb62b0897392e.jpg\"/>, <img src=\"https://gdc.hupucdn.com/gdc/nba/players/uploads/gamespace/players/98f34c229b63febd7ea532e7fae13c4c.png\"/>, <img src=\"https://c2.hoopchina.com.cn/images/gamespace/brand.jpg\"/>, <img src=\"https://c2.hoopchina.com.cn/images/gamespace/brand.jpg\"/>, <img src=\"https://c2.hoopchina.com.cn/images/gamespace/brand.jpg\"/>, <img src=\"https://gdc.hupucdn.com/gdc/nba/players/uploads/gamespace/players/2d692f4a65d28220bec2cb80cc9797f4.png\"/>, <img src=\"https://gdc.hupucdn.com/gdc/nba/players/uploads/gamespace/players/68a162aaf1d7e94b13ba10124f90a3de.png\"/>, <img src=\"https://gdc.hupucdn.com/gdc/nba/players/uploads/gamespace/players/e350aa5dc6078679008e7e5ef3ae1ad0.jpg\"/>, <img src=\"https://gdc.hupucdn.com/gdc/nba/players/uploads/gamespace/players/f81e05fa813b2de5879038769777736c.png\"/>, <img src=\"https://gdc.hupucdn.com/gdc/nba/players/uploads/gamespace/players/6de4e5df701db388f2d162cc62a402c1.png\"/>]\n",
      "[<img src=\"https://gdc.hupucdn.com/gdc/nba/players/uploads/gamespace/players/2be939fa70bcc576a5490c282c200a20.jpg\"/>, <img src=\"https://gdc.hupucdn.com/gdc/nba/players/uploads/gamespace/players/245b200af97a48ae769ba93df1b20764.jpg\"/>, <img src=\"https://c2.hoopchina.com.cn/images/gamespace/brand.jpg\"/>, <img src=\"https://c2.hoopchina.com.cn/images/gamespace/brand.jpg\"/>, <img src=\"https://gdc.hupucdn.com/gdc/nba/players/uploads/gamespace/players/855c14aabdbd9b80e78de0ce7c6a2218.png\"/>, <img src=\"https://c2.hoopchina.com.cn/images/gamespace/brand.jpg\"/>, <img src=\"https://c2.hoopchina.com.cn/images/gamespace/brand.jpg\"/>, <img src=\"https://gdc.hupucdn.com/gdc/nba/players/uploads/gamespace/players/9bf975925e0183270ed72a211d1ced96.png\"/>, <img src=\"https://gdc.hupucdn.com/gdc/nba/players/uploads/gamespace/players/7256217755836e01c7eab97b191de74a.png\"/>, <img src=\"https://gdc.hupucdn.com/gdc/nba/players/uploads/gamespace/players/44b0e5aec0627b313206d7e7db4416bc.png\"/>, <img src=\"https://gdc.hupucdn.com/gdc/nba/players/uploads/gamespace/players/aab961566eda09abe55d1861b919077b.png\"/>, <img src=\"https://c2.hoopchina.com.cn/images/gamespace/brand.jpg\"/>, <img src=\"https://gdc.hupucdn.com/gdc/nba/players/uploads/gamespace/players/1854e8c59952c1a509e6c2e17f894c2d.jpg\"/>, <img src=\"https://gdc.hupucdn.com/gdc/nba/players/uploads/gamespace/players/52bd7913c88d26b4a7a6df05ad0b4d05.png\"/>, <img src=\"https://gdc.hupucdn.com/gdc/nba/players/uploads/gamespace/players/b4a7a09075082b03657538bfdf2ef3a0.png\"/>, <img src=\"https://c2.hoopchina.com.cn/images/gamespace/brand.jpg\"/>, <img src=\"https://c2.hoopchina.com.cn/images/gamespace/brand.jpg\"/>, <img src=\"https://gdc.hupucdn.com/gdc/nba/players/uploads/gamespace/players/c63c31de568bea5a59bbea90d277f736.png\"/>]\n",
      "[<img src=\"https://gdc.hupucdn.com/gdc/nba/players/uploads/gamespace/players/852c1dacdaa2c580dc131e9048066eaa.jpg\"/>, <img src=\"https://c2.hoopchina.com.cn/images/gamespace/brand.jpg\"/>, <img src=\"https://c2.hoopchina.com.cn/images/gamespace/brand.jpg\"/>, <img src=\"https://gdc.hupucdn.com/gdc/nba/players/uploads/gamespace/players/0d3091aafc1a38edf4b03044e7fd45e2.png\"/>, <img src=\"https://gdc.hupucdn.com/gdc/nba/players/uploads/gamespace/players/bd0166589ae309343988d13116f72e3e.jpg\"/>, <img src=\"https://c2.hoopchina.com.cn/images/gamespace/brand.jpg\"/>, <img src=\"https://gdc.hupucdn.com/gdc/nba/players/uploads/gamespace/players/c7b2a7e4d7c07833beb416043e03b173.png\"/>, <img src=\"https://c2.hoopchina.com.cn/images/gamespace/brand.jpg\"/>, <img src=\"https://gdc.hupucdn.com/gdc/nba/players/uploads/gamespace/players/92d7c2183e5da4d021ea93fc91c6a868.png\"/>, <img src=\"https://c2.hoopchina.com.cn/images/gamespace/brand.jpg\"/>, <img src=\"https://gdc.hupucdn.com/gdc/nba/players/uploads/gamespace/players/705106a52a1d18f89a15f739bf7351a7.png\"/>, <img src=\"https://c2.hoopchina.com.cn/images/gamespace/brand.jpg\"/>, <img src=\"https://c2.hoopchina.com.cn/images/gamespace/brand.jpg\"/>, <img src=\"https://gdc.hupucdn.com/gdc/nba/players/uploads/gamespace/players/0748f2c036d178e2822c71af01851f09.png\"/>, <img src=\"https://gdc.hupucdn.com/gdc/nba/players/uploads/gamespace/players/ec6c67f501f5088f261d9c2d7d5d196b.png\"/>, <img src=\"https://gdc.hupucdn.com/gdc/nba/players/uploads/gamespace/players/33599b744a72b66cb77f5eca48a70409.png\"/>, <img src=\"https://gdc.hupucdn.com/gdc/nba/players/uploads/gamespace/players/ed8b5661916cff06afe8c89142825ec0.png\"/>, <img src=\"https://gdc.hupucdn.com/gdc/nba/players/uploads/gamespace/players/7f60a66a7e4142a4332ca2eec1f9cfc5.png\"/>]\n",
      "[<img src=\"https://gdc.hupucdn.com/gdc/nba/players/uploads/gamespace/players/6dc671bb67b66a7efdf66a3dba4f5c6c.jpg\"/>, <img src=\"https://gdc.hupucdn.com/gdc/nba/players/uploads/gamespace/players/d622313efc8a324b87d215ca110316b0.jpg\"/>, <img src=\"https://gdc.hupucdn.com/gdc/nba/players/uploads/gamespace/players/bf003b1ccdd769bb1503e14dc06d2b2f.jpg\"/>, <img src=\"https://c2.hoopchina.com.cn/images/gamespace/brand.jpg\"/>, <img src=\"https://gdc.hupucdn.com/gdc/nba/players/uploads/gamespace/players/01db2bd5d3be1aaa234fb7a757540b3e.jpg\"/>, <img src=\"https://c2.hoopchina.com.cn/images/gamespace/brand.jpg\"/>, <img src=\"https://c2.hoopchina.com.cn/images/gamespace/brand.jpg\"/>, <img src=\"https://gdc.hupucdn.com/gdc/nba/players/uploads/gamespace/players/7caf830e87656de5e0340be4acaa85f5.jpg\"/>, <img src=\"https://c2.hoopchina.com.cn/images/gamespace/brand.jpg\"/>, <img src=\"https://gdc.hupucdn.com/gdc/nba/players/uploads/gamespace/players/195c8ce60e459791c2431c6da84e264f.png\"/>, <img src=\"https://c2.hoopchina.com.cn/images/gamespace/brand.jpg\"/>, <img src=\"https://gdc.hupucdn.com/gdc/nba/players/uploads/gamespace/players/2da4dafc994aca804c581450712ae9a1.png\"/>, <img src=\"https://c2.hoopchina.com.cn/images/gamespace/brand.jpg\"/>, <img src=\"https://gdc.hupucdn.com/gdc/nba/players/uploads/gamespace/players/613ddd764be1037f43f38f15b6e7dff8.png\"/>, <img src=\"https://gdc.hupucdn.com/gdc/nba/players/uploads/gamespace/players/72e912507305ee0857ca197bf91a0c88.png\"/>, <img src=\"https://gdc.hupucdn.com/gdc/nba/players/uploads/gamespace/players/b6a8f145edc385f492c0ffd804a9667b.png\"/>, <img src=\"https://c2.hoopchina.com.cn/images/gamespace/brand.jpg\"/>]\n",
      "[<img src=\"https://gdc.hupucdn.com/gdc/nba/players/uploads/gamespace/players/1988f0969480b2c7d778a7d0aa4c51b1.jpg\"/>, <img src=\"https://gdc.hupucdn.com/gdc/nba/players/uploads/gamespace/players/bfbec375cc9b7f082d5e5fee422f80c7.png\"/>, <img src=\"https://c2.hoopchina.com.cn/images/gamespace/brand.jpg\"/>, <img src=\"https://c2.hoopchina.com.cn/images/gamespace/brand.jpg\"/>, <img src=\"https://gdc.hupucdn.com/gdc/nba/players/uploads/gamespace/players/6edb50b4c4f0f12536f7b0cd9d19a559.png\"/>, <img src=\"https://c2.hoopchina.com.cn/images/gamespace/brand.jpg\"/>, <img src=\"https://c2.hoopchina.com.cn/images/gamespace/brand.jpg\"/>, <img src=\"https://gdc.hupucdn.com/gdc/nba/players/uploads/gamespace/players/4978513730c90ef30148386d0189f8fd.png\"/>, <img src=\"https://gdc.hupucdn.com/gdc/nba/players/uploads/gamespace/players/0cb5d3fe3ea6878a6605433ac8a2e64e.jpg\"/>, <img src=\"https://gdc.hupucdn.com/gdc/nba/players/uploads/gamespace/players/8bcaa24a921320b027e8dff1c008258b.jpg\"/>, <img src=\"https://gdc.hupucdn.com/gdc/nba/players/uploads/gamespace/players/db20b72d11a68d9b6abefa352baa178c.png\"/>, <img src=\"https://c2.hoopchina.com.cn/images/gamespace/brand.jpg\"/>, <img src=\"https://c2.hoopchina.com.cn/images/gamespace/brand.jpg\"/>, <img src=\"https://c2.hoopchina.com.cn/images/gamespace/brand.jpg\"/>, <img src=\"https://gdc.hupucdn.com/gdc/nba/players/uploads/gamespace/players/b622ae863c161b99e99c22b5bd573702.png\"/>, <img src=\"https://gdc.hupucdn.com/gdc/nba/players/uploads/gamespace/players/82d9b3971a7f22eb028a9ed9e7e013d3.png\"/>, <img src=\"https://c2.hoopchina.com.cn/images/gamespace/brand.jpg\"/>, <img src=\"https://gdc.hupucdn.com/gdc/nba/players/uploads/gamespace/players/92a25b15af7598e1a03f1fc28cc3e54d.png\"/>]\n",
      "[<img src=\"https://gdc.hupucdn.com/gdc/nba/players/uploads/gamespace/players/a3f7a947c15710d2deb512a19b931b7a.jpg\"/>, <img src=\"https://c2.hoopchina.com.cn/images/gamespace/brand.jpg\"/>, <img src=\"https://gdc.hupucdn.com/gdc/nba/players/uploads/gamespace/players/b938d32b2d5552cd598c9c9ccd8800dd.png\"/>, <img src=\"https://c2.hoopchina.com.cn/images/gamespace/brand.jpg\"/>, <img src=\"https://gdc.hupucdn.com/gdc/nba/players/uploads/gamespace/players/8a14cefd582b8b5c6c2b8796a30998d8.png\"/>, <img src=\"https://gdc.hupucdn.com/gdc/nba/players/uploads/gamespace/players/4590ee50174703314a712932e35e5594.jpg\"/>, <img src=\"https://gdc.hupucdn.com/gdc/nba/players/uploads/gamespace/players/de25300795d47b607fc407daaaebee82.png\"/>, <img src=\"https://c2.hoopchina.com.cn/images/gamespace/brand.jpg\"/>, <img src=\"https://gdc.hupucdn.com/gdc/nba/players/uploads/gamespace/players/337b35b2ba6253cc6e8b2f19742d69c5.png\"/>, <img src=\"https://gdc.hupucdn.com/gdc/nba/players/uploads/gamespace/players/80a86ccbe82457630beb627c39a55f9c.png\"/>, <img src=\"https://gdc.hupucdn.com/gdc/nba/players/uploads/gamespace/players/29b2ebfb146f6780aa656a924fcc3f75.png\"/>, <img src=\"https://c2.hoopchina.com.cn/images/gamespace/brand.jpg\"/>, <img src=\"https://gdc.hupucdn.com/gdc/nba/players/uploads/gamespace/players/fd246ad1c998be3f162f2446b5a34fac.png\"/>, <img src=\"https://c2.hoopchina.com.cn/images/gamespace/brand.jpg\"/>, <img src=\"https://gdc.hupucdn.com/gdc/nba/players/uploads/gamespace/players/7ec9f1b836ef40644cd31124210335bb.png\"/>, <img src=\"https://gdc.hupucdn.com/gdc/nba/players/uploads/gamespace/players/53e82433dea523a5732553aa0a671c5c.png\"/>, <img src=\"https://gdc.hupucdn.com/gdc/nba/players/uploads/gamespace/players/820ee118030046c48f07870fbe436c3a.png\"/>]\n",
      "[<img src=\"https://c2.hoopchina.com.cn/images/gamespace/brand.jpg\"/>, <img src=\"https://c2.hoopchina.com.cn/images/gamespace/brand.jpg\"/>, <img src=\"https://c2.hoopchina.com.cn/images/gamespace/brand.jpg\"/>, <img src=\"https://gdc.hupucdn.com/gdc/nba/players/uploads/gamespace/players/1c374e2a7a7c7a1770e25804e8c48555.jpg\"/>, <img src=\"https://gdc.hupucdn.com/gdc/nba/players/uploads/gamespace/players/c442e98cdd04b18cb3b586edd70d5d64.png\"/>, <img src=\"https://c2.hoopchina.com.cn/images/gamespace/brand.jpg\"/>, <img src=\"https://gdc.hupucdn.com/gdc/nba/players/uploads/gamespace/players/0f15d757b0b7ebd58b181e4f56dc74da.png\"/>, <img src=\"https://c2.hoopchina.com.cn/images/gamespace/brand.jpg\"/>, <img src=\"https://c2.hoopchina.com.cn/images/gamespace/brand.jpg\"/>, <img src=\"https://c2.hoopchina.com.cn/images/gamespace/brand.jpg\"/>, <img src=\"https://c2.hoopchina.com.cn/images/gamespace/brand.jpg\"/>, <img src=\"https://gdc.hupucdn.com/gdc/nba/players/uploads/gamespace/players/b939f34f13624ae01d6b41731bf9eeb6.png\"/>, <img src=\"https://gdc.hupucdn.com/gdc/nba/players/uploads/gamespace/players/12c8d9495561fa49c287f8710b52c1fd.png\"/>, <img src=\"https://c2.hoopchina.com.cn/images/gamespace/brand.jpg\"/>, <img src=\"https://gdc.hupucdn.com/gdc/nba/players/uploads/gamespace/players/cb76c0954c364d0bf3fb8051031434cf.png\"/>, <img src=\"https://c2.hoopchina.com.cn/images/gamespace/brand.jpg\"/>, <img src=\"https://gdc.hupucdn.com/gdc/nba/players/uploads/gamespace/players/d7eeecf792663a35b203599a3de5d715.png\"/>, <img src=\"https://c2.hoopchina.com.cn/images/gamespace/brand.jpg\"/>]\n",
      "[<img src=\"https://c2.hoopchina.com.cn/images/gamespace/brand.jpg\"/>, <img src=\"https://gdc.hupucdn.com/gdc/nba/players/uploads/gamespace/players/8413bd1d1e997154beb0525ffcc31492.jpg\"/>, <img src=\"https://c2.hoopchina.com.cn/images/gamespace/brand.jpg\"/>, <img src=\"https://c2.hoopchina.com.cn/images/gamespace/brand.jpg\"/>, <img src=\"https://gdc.hupucdn.com/gdc/nba/players/uploads/gamespace/players/ee018ceb634c8c006973ef659ed67129.png\"/>, <img src=\"https://gdc.hupucdn.com/gdc/nba/players/uploads/gamespace/players/bbd15049d93be7edd67347ccec63b95e.jpg\"/>, <img src=\"https://gdc.hupucdn.com/gdc/nba/players/uploads/gamespace/players/7571436f9591dc647f0599a1ad35f800.png\"/>, <img src=\"https://gdc.hupucdn.com/gdc/nba/players/uploads/gamespace/players/aab331ed34447251298d669f23550920.png\"/>, <img src=\"https://gdc.hupucdn.com/gdc/nba/players/uploads/gamespace/players/65c63236aa7cba68a808cca38d8a3dd7.png\"/>, <img src=\"https://gdc.hupucdn.com/gdc/nba/players/uploads/gamespace/players/3234eee7138a07b9749c12681e3a544b.png\"/>, <img src=\"https://gdc.hupucdn.com/gdc/nba/players/uploads/gamespace/players/7220e88eb82f872540abc1a10e6476dc.png\"/>, <img src=\"https://gdc.hupucdn.com/gdc/nba/players/uploads/gamespace/players/3a606867705b51edab28300d910478c9.png\"/>, <img src=\"https://gdc.hupucdn.com/gdc/nba/players/uploads/gamespace/players/05313be1e79bd46766c5b655adb584c0.png\"/>, <img src=\"https://gdc.hupucdn.com/gdc/nba/players/uploads/gamespace/players/5a605a5d9718645645d1afbac0075732.png\"/>, <img src=\"https://gdc.hupucdn.com/gdc/nba/players/uploads/gamespace/players/1e384be626e8ec38222f70eb52a491b0.png\"/>, <img src=\"https://gdc.hupucdn.com/gdc/nba/players/uploads/gamespace/players/a4ecd1fdedcb94f5f9b249050d8f28b6.png\"/>, <img src=\"https://gdc.hupucdn.com/gdc/nba/players/uploads/gamespace/players/445eb62d2cc5215bde2f9a880b89fc7c.jpg\"/>, <img src=\"https://c2.hoopchina.com.cn/images/gamespace/brand.jpg\"/>]\n",
      "[]\n",
      "[<img src=\"https://gdc.hupucdn.com/gdc/nba/players/uploads/gamespace/players/07804fcf2a68a26fa6e61542ce1069ae.png\"/>, <img src=\"https://gdc.hupucdn.com/gdc/nba/players/uploads/gamespace/players/56668d67e7b327f528ab4365f6fd4ad1.png\"/>, <img src=\"https://gdc.hupucdn.com/gdc/nba/players/uploads/gamespace/players/1aafeafcc020cc16543df67a38717fda.png\"/>, <img src=\"https://gdc.hupucdn.com/gdc/nba/players/uploads/gamespace/players/86cc37a89f55d1acc7059d857371c19d.png\"/>, <img src=\"https://c2.hoopchina.com.cn/images/gamespace/brand.jpg\"/>, <img src=\"https://gdc.hupucdn.com/gdc/nba/players/uploads/gamespace/players/de541a0dab7429efa1d0bdcf8145cb45.jpg\"/>, <img src=\"https://c2.hoopchina.com.cn/images/gamespace/brand.jpg\"/>, <img src=\"https://c2.hoopchina.com.cn/images/gamespace/brand.jpg\"/>, <img src=\"https://c2.hoopchina.com.cn/images/gamespace/brand.jpg\"/>, <img src=\"https://c2.hoopchina.com.cn/images/gamespace/brand.jpg\"/>, <img src=\"https://c2.hoopchina.com.cn/images/gamespace/brand.jpg\"/>, <img src=\"https://gdc.hupucdn.com/gdc/nba/players/uploads/gamespace/players/9ab7f6e6d538cdfa82da5f39a71b9f25.png\"/>, <img src=\"https://gdc.hupucdn.com/gdc/nba/players/uploads/gamespace/players/e02e9446d52433deb45bcc11c23bfc79.png\"/>, <img src=\"https://gdc.hupucdn.com/gdc/nba/players/uploads/gamespace/players/40c7f5d1e66fcee628d6ae0f5c5206ce.png\"/>, <img src=\"https://gdc.hupucdn.com/gdc/nba/players/uploads/gamespace/players/4a16bbdd795d77882486dbc4d14aa8a2.png\"/>, <img src=\"https://gdc.hupucdn.com/gdc/nba/players/uploads/gamespace/players/0e62451d534e4450ab38e8504d198bad.png\"/>, <img src=\"https://gdc.hupucdn.com/gdc/nba/players/uploads/gamespace/players/999471e927146235c995f35d78fd7fdc.jpg\"/>, <img src=\"https://gdc.hupucdn.com/gdc/nba/players/uploads/gamespace/players/97b2ac4c2c3ea770d04102887088fd65.png\"/>]\n"
     ]
    },
    {
     "name": "stderr",
     "output_type": "stream",
     "text": [
      "Exception ignored from cffi callback <function buffer_callback at 0x1204236a0>:\n",
      "Traceback (most recent call last):\n",
      "  File \"/Users/wansuishan/anaconda3/lib/python3.11/site-packages/curl_cffi/curl.py\", line 63, in buffer_callback\n",
      "    @ffi.def_extern()\n",
      "    \n",
      "KeyboardInterrupt: \n"
     ]
    },
    {
     "ename": "ConnectionError",
     "evalue": "Failed to perform, curl: (56) Failure writing output to destination, passed 13 returned 0. See https://curl.se/libcurl/c/libcurl-errors.html first for more details.",
     "output_type": "error",
     "traceback": [
      "\u001B[0;31m---------------------------------------------------------------------------\u001B[0m",
      "\u001B[0;31mCurlError\u001B[0m                                 Traceback (most recent call last)",
      "File \u001B[0;32m~/anaconda3/lib/python3.11/site-packages/curl_cffi/requests/session.py:577\u001B[0m, in \u001B[0;36mSession.request\u001B[0;34m(self, method, url, params, data, json, headers, cookies, files, auth, timeout, allow_redirects, max_redirects, proxies, proxy, proxy_auth, verify, referer, accept_encoding, content_callback, impersonate, ja3, akamai, extra_fp, default_headers, default_encoding, quote, http_version, interface, cert, stream, max_recv_speed, multipart)\u001B[0m\n\u001B[1;32m    576\u001B[0m     \u001B[38;5;28;01melse\u001B[39;00m:\n\u001B[0;32m--> 577\u001B[0m         c\u001B[38;5;241m.\u001B[39mperform()\n\u001B[1;32m    578\u001B[0m \u001B[38;5;28;01mexcept\u001B[39;00m CurlError \u001B[38;5;28;01mas\u001B[39;00m e:\n",
      "File \u001B[0;32m~/anaconda3/lib/python3.11/site-packages/curl_cffi/curl.py:307\u001B[0m, in \u001B[0;36mCurl.perform\u001B[0;34m(self, clear_headers)\u001B[0m\n\u001B[1;32m    306\u001B[0m \u001B[38;5;28;01mtry\u001B[39;00m:\n\u001B[0;32m--> 307\u001B[0m     \u001B[38;5;28mself\u001B[39m\u001B[38;5;241m.\u001B[39m_check_error(ret, \u001B[38;5;124m\"\u001B[39m\u001B[38;5;124mperform\u001B[39m\u001B[38;5;124m\"\u001B[39m)\n\u001B[1;32m    308\u001B[0m \u001B[38;5;28;01mfinally\u001B[39;00m:\n\u001B[1;32m    309\u001B[0m     \u001B[38;5;66;03m# cleaning\u001B[39;00m\n",
      "File \u001B[0;32m~/anaconda3/lib/python3.11/site-packages/curl_cffi/curl.py:150\u001B[0m, in \u001B[0;36mCurl._check_error\u001B[0;34m(self, errcode, *args)\u001B[0m\n\u001B[1;32m    149\u001B[0m \u001B[38;5;28;01mif\u001B[39;00m error \u001B[38;5;129;01mis\u001B[39;00m \u001B[38;5;129;01mnot\u001B[39;00m \u001B[38;5;28;01mNone\u001B[39;00m:\n\u001B[0;32m--> 150\u001B[0m     \u001B[38;5;28;01mraise\u001B[39;00m error\n",
      "\u001B[0;31mCurlError\u001B[0m: Failed to perform, curl: (56) Failure writing output to destination, passed 13 returned 0. See https://curl.se/libcurl/c/libcurl-errors.html first for more details.",
      "\nThe above exception was the direct cause of the following exception:\n",
      "\u001B[0;31mConnectionError\u001B[0m                           Traceback (most recent call last)",
      "Cell \u001B[0;32mIn[133], line 28\u001B[0m\n\u001B[1;32m     26\u001B[0m \u001B[38;5;28;01mfor\u001B[39;00m item \u001B[38;5;129;01min\u001B[39;00m team:\n\u001B[1;32m     27\u001B[0m     new_url \u001B[38;5;241m=\u001B[39m url\u001B[38;5;241m.\u001B[39mformat(item)\n\u001B[0;32m---> 28\u001B[0m     response\u001B[38;5;241m=\u001B[39mrequests\u001B[38;5;241m.\u001B[39mget(url\u001B[38;5;241m=\u001B[39mnew_url,headers\u001B[38;5;241m=\u001B[39mheaders)\n\u001B[1;32m     29\u001B[0m     soup\u001B[38;5;241m=\u001B[39mBeautifulSoup(response\u001B[38;5;241m.\u001B[39mtext,\u001B[38;5;124m'\u001B[39m\u001B[38;5;124mlxml\u001B[39m\u001B[38;5;124m'\u001B[39m)\n\u001B[1;32m     30\u001B[0m     \u001B[38;5;66;03m# print(page)\u001B[39;00m\n\u001B[1;32m     31\u001B[0m \n\u001B[1;32m     32\u001B[0m     \u001B[38;5;66;03m#正则解析\u001B[39;00m\n\u001B[0;32m   (...)\u001B[0m\n\u001B[1;32m     36\u001B[0m     \u001B[38;5;66;03m# img_str=re.findall(pattern,page,re.S)\u001B[39;00m\n\u001B[1;32m     37\u001B[0m     \u001B[38;5;66;03m# # print(img_str)\u001B[39;00m\n",
      "File \u001B[0;32m~/anaconda3/lib/python3.11/site-packages/curl_cffi/requests/__init__.py:125\u001B[0m, in \u001B[0;36mget\u001B[0;34m(url, **kwargs)\u001B[0m\n\u001B[1;32m    124\u001B[0m \u001B[38;5;28;01mdef\u001B[39;00m \u001B[38;5;21mget\u001B[39m(url: \u001B[38;5;28mstr\u001B[39m, \u001B[38;5;241m*\u001B[39m\u001B[38;5;241m*\u001B[39mkwargs: Unpack[SessionRequestParams]):\n\u001B[0;32m--> 125\u001B[0m     \u001B[38;5;28;01mreturn\u001B[39;00m request(method\u001B[38;5;241m=\u001B[39m\u001B[38;5;124m\"\u001B[39m\u001B[38;5;124mGET\u001B[39m\u001B[38;5;124m\"\u001B[39m, url\u001B[38;5;241m=\u001B[39murl, \u001B[38;5;241m*\u001B[39m\u001B[38;5;241m*\u001B[39mkwargs)\n",
      "File \u001B[0;32m~/anaconda3/lib/python3.11/site-packages/curl_cffi/requests/__init__.py:119\u001B[0m, in \u001B[0;36mrequest\u001B[0;34m(method, url, thread, curl_options, debug, **kwargs)\u001B[0m\n\u001B[1;32m    117\u001B[0m debug \u001B[38;5;241m=\u001B[39m \u001B[38;5;28;01mFalse\u001B[39;00m \u001B[38;5;28;01mif\u001B[39;00m debug \u001B[38;5;129;01mis\u001B[39;00m \u001B[38;5;28;01mNone\u001B[39;00m \u001B[38;5;28;01melse\u001B[39;00m debug\n\u001B[1;32m    118\u001B[0m \u001B[38;5;28;01mwith\u001B[39;00m Session(thread\u001B[38;5;241m=\u001B[39mthread, curl_options\u001B[38;5;241m=\u001B[39mcurl_options, debug\u001B[38;5;241m=\u001B[39mdebug) \u001B[38;5;28;01mas\u001B[39;00m s:\n\u001B[0;32m--> 119\u001B[0m     \u001B[38;5;28;01mreturn\u001B[39;00m s\u001B[38;5;241m.\u001B[39mrequest(method\u001B[38;5;241m=\u001B[39mmethod, url\u001B[38;5;241m=\u001B[39murl, \u001B[38;5;241m*\u001B[39m\u001B[38;5;241m*\u001B[39mkwargs)\n",
      "File \u001B[0;32m~/anaconda3/lib/python3.11/site-packages/curl_cffi/requests/session.py:582\u001B[0m, in \u001B[0;36mSession.request\u001B[0;34m(self, method, url, params, data, json, headers, cookies, files, auth, timeout, allow_redirects, max_redirects, proxies, proxy, proxy_auth, verify, referer, accept_encoding, content_callback, impersonate, ja3, akamai, extra_fp, default_headers, default_encoding, quote, http_version, interface, cert, stream, max_recv_speed, multipart)\u001B[0m\n\u001B[1;32m    580\u001B[0m     rsp\u001B[38;5;241m.\u001B[39mrequest \u001B[38;5;241m=\u001B[39m req\n\u001B[1;32m    581\u001B[0m     error \u001B[38;5;241m=\u001B[39m code2error(e\u001B[38;5;241m.\u001B[39mcode, \u001B[38;5;28mstr\u001B[39m(e))\n\u001B[0;32m--> 582\u001B[0m     \u001B[38;5;28;01mraise\u001B[39;00m error(\u001B[38;5;28mstr\u001B[39m(e), e\u001B[38;5;241m.\u001B[39mcode, rsp) \u001B[38;5;28;01mfrom\u001B[39;00m \u001B[38;5;21;01me\u001B[39;00m\n\u001B[1;32m    583\u001B[0m \u001B[38;5;28;01melse\u001B[39;00m:\n\u001B[1;32m    584\u001B[0m     rsp \u001B[38;5;241m=\u001B[39m \u001B[38;5;28mself\u001B[39m\u001B[38;5;241m.\u001B[39m_parse_response(c, buffer, header_buffer, default_encoding)\n",
      "\u001B[0;31mConnectionError\u001B[0m: Failed to perform, curl: (56) Failure writing output to destination, passed 13 returned 0. See https://curl.se/libcurl/c/libcurl-errors.html first for more details."
     ]
    }
   ],
   "execution_count": 133
  }
 ],
 "metadata": {
  "kernelspec": {
   "display_name": "Python 3",
   "language": "python",
   "name": "python3"
  },
  "language_info": {
   "codemirror_mode": {
    "name": "ipython",
    "version": 2
   },
   "file_extension": ".py",
   "mimetype": "text/x-python",
   "name": "python",
   "nbconvert_exporter": "python",
   "pygments_lexer": "ipython2",
   "version": "2.7.6"
  }
 },
 "nbformat": 4,
 "nbformat_minor": 5
}
