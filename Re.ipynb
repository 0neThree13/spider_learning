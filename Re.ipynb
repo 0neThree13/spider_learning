{
 "cells": [
  {
   "metadata": {},
   "cell_type": "markdown",
   "source": [
    "# 正则（Regular Expressions, regex）解析\n",
    "##### Python 提供 re 模块，可以用来匹配和提取数据。正则解析（Regular Expressions, regex） 主要用于解析 HTML 源码中的静态加载内容，即网页请求时直接返回的 HTML 代码。\n",
    "\n",
    "# 1.虎扑NBA球员_头像抓取\n"
   ],
   "id": "6566b4d5b36d18e9"
  },
  {
   "cell_type": "code",
   "id": "initial_id",
   "metadata": {
    "collapsed": true,
    "ExecuteTime": {
     "end_time": "2025-03-09T12:29:13.970843Z",
     "start_time": "2025-03-09T12:29:13.968501Z"
    }
   },
   "source": [
    "import requests\n",
    "import re\n",
    "import os\n",
    "from onnxruntime.transformers.shape_infer_helper import file_path"
   ],
   "outputs": [],
   "execution_count": 26
  },
  {
   "metadata": {},
   "cell_type": "markdown",
   "source": [
    "###### 图片地址和对应的html\n",
    "\n",
    "\n",
    "\n",
    "\n",
    "\n"
   ],
   "id": "539d315c6734a1e6"
  },
  {
   "metadata": {},
   "cell_type": "code",
   "outputs": [],
   "execution_count": null,
   "source": [
    "#https://gdc.hupucdn.com/gdc/nba/players/uploads/gamespace/players/8413bd1d1e997154beb0525ffcc31492.jpg\n",
    "\n",
    "#html\n",
    "# <td class=\"td_padding\">\n",
    "# <a href=\"https://nba.hupu.com/players/austinreaves-152614.html\" target=\"_blank\">\n",
    "# <img src=\"https://gdc.hupucdn.com/gdc/nba/players/uploads/gamespace/players/8413bd1d1e997154beb0525ffcc31492.jpg\">\n",
    "# </a>\n",
    "# </td>\n",
    "\n",
    "#正则解析\n",
    "#<img\\s+src=\"(https://gdc\\.hupucdn\\.com/gdc/nba/players/uploads/gamespace/players/.*?\\.(?:jpg|jpeg|png|gif))\""
   ],
   "id": "d24a2ef8360e4ddb"
  },
  {
   "metadata": {
    "ExecuteTime": {
     "end_time": "2025-03-09T14:03:23.544487Z",
     "start_time": "2025-03-09T14:03:23.540488Z"
    }
   },
   "cell_type": "code",
   "source": [
    "if not os.path.exists('./data'):\n",
    "    os.makedirs(\"./data\")"
   ],
   "id": "b19b5a61aeaaf7c2",
   "outputs": [],
   "execution_count": 66
  },
  {
   "metadata": {
    "ExecuteTime": {
     "end_time": "2025-03-09T14:04:00.474546Z",
     "start_time": "2025-03-09T14:03:24.461Z"
    }
   },
   "cell_type": "code",
   "source": [
    "headers = {\n",
    "    'User-Agent':'Mozilla/5.0 (Linux; Android 6.0; Nexus 5 Build/MRA58N) AppleWebKit/537.36 (KHTML, like Gecko) Chrome/134.0.0.0 Mobile Safari/537.36',\n",
    "\n",
    "    'Cookie':'smidV2=2025030919471573ced9ffaf5fe4edfa74b5526409ac50003801d34d210c9c0; sajssdk_2015_cross_new_user=1; sensorsdata2015jssdkcross=%7B%22distinct_id%22%3A%221957abb330911dc-0cc6b090f618dd-1b525636-1484784-1957abb330a2644%22%2C%22first_id%22%3A%22%22%2C%22props%22%3A%7B%22%24latest_traffic_source_type%22%3A%22%E7%9B%B4%E6%8E%A5%E6%B5%81%E9%87%8F%22%2C%22%24latest_search_keyword%22%3A%22%E6%9C%AA%E5%8F%96%E5%88%B0%E5%80%BC_%E7%9B%B4%E6%8E%A5%E6%89%93%E5%BC%80%22%2C%22%24latest_referrer%22%3A%22%22%7D%2C%22identities%22%3A%22eyIkaWRlbnRpdHlfY29va2llX2lkIjoiMTk1N2FiYjMzMDkxMWRjLTBjYzZiMDkwZjYxOGRkLTFiNTI1NjM2LTE0ODQ3ODQtMTk1N2FiYjMzMGEyNjQ0In0%3D%22%2C%22history_login_id%22%3A%7B%22name%22%3A%22%22%2C%22value%22%3A%22%22%7D%2C%22%24device_id%22%3A%221957abb330911dc-0cc6b090f618dd-1b525636-1484784-1957abb330a2644%22%7D; Hm_lvt_b241fb65ecc2ccf4e7e3b9601c7a50de=1741520848; Hm_lpvt_b241fb65ecc2ccf4e7e3b9601c7a50de=1741520848; HMACCOUNT=6CB9AF89D45FA5C9; Hm_lvt_4fac77ceccb0cd4ad5ef1be46d740615=1741520848; Hm_lpvt_4fac77ceccb0cd4ad5ef1be46d740615=1741520848'\n",
    "    }\n",
    "\n",
    "url='https://nba.hupu.com/players/{}'\n",
    "\n",
    "team = {\n",
    "    'lakers', 'clippers', 'warriors', 'kings', 'suns',\n",
    "    'nuggets', 'timberwolves', 'thunder', 'blazers', 'jazz',\n",
    "    'mavericks', 'rockets', 'grizzlies', 'pelicans', 'spurs',\n",
    "    'celtics', 'nets', 'knicks', '76ers', 'raptors',\n",
    "    'bucks', 'bulls', 'cavaliers', 'pistons', 'pacers',\n",
    "    'heat', 'hawks', 'hornets', 'magic', 'wizards'\n",
    "}\n",
    "\n",
    "for item in team:\n",
    "    new_url = url.format(item)\n",
    "    response=requests.get(url=new_url,headers=headers)\n",
    "    page=response.text\n",
    "    # print(page)\n",
    "\n",
    "    #正则解析\n",
    "    # pattern = r'<img\\s+src=\"(https?://.*?\\.(?:jpg|jpeg|png|gif))\"'\n",
    "    pattern = r'<img\\s+src=\"(https://gdc\\.hupucdn\\.com/gdc/nba/players/uploads/gamespace/players/.*?\\.(?:jpg|jpeg|png|gif))\"'\n",
    "\n",
    "    img_str=re.findall(pattern,page,re.S)\n",
    "    # print(img_str)\n",
    "\n",
    "    #储存图片\n",
    "    for img in img_str:\n",
    "        img_data=requests.get(img,headers=headers).content\n",
    "        img_name=img.split('/')[-1]\n",
    "\n",
    "        with open(f'./data/{img_name}','wb') as f:\n",
    "            f.write(img_data)\n",
    "print(\"✅\")\n"
   ],
   "id": "90e864df751f7ccb",
   "outputs": [
    {
     "name": "stdout",
     "output_type": "stream",
     "text": [
      "✅\n"
     ]
    }
   ],
   "execution_count": 67
  }
 ],
 "metadata": {
  "kernelspec": {
   "display_name": "Python 3",
   "language": "python",
   "name": "python3"
  },
  "language_info": {
   "codemirror_mode": {
    "name": "ipython",
    "version": 2
   },
   "file_extension": ".py",
   "mimetype": "text/x-python",
   "name": "python",
   "nbconvert_exporter": "python",
   "pygments_lexer": "ipython2",
   "version": "2.7.6"
  }
 },
 "nbformat": 4,
 "nbformat_minor": 5
}
